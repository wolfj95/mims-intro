{
 "cells": [
  {
   "cell_type": "markdown",
   "id": "90d34ebb",
   "metadata": {},
   "source": [
    "# Welcome to a Jupyter notebook!\n",
    "\n",
    "Jupyter Notebooks are interactive interfaces which mix python code with text and output, like if your python files in Atom could talk back to you.\n",
    "\n",
    "This notebook will walk you through the basics of using Jupyter Notebooks."
   ]
  },
  {
   "cell_type": "markdown",
   "id": "38016da2",
   "metadata": {},
   "source": [
    "## Running python code\n",
    "\n",
    "One of the most interesting features of Jupyter notebooks is that they combine code with text almost seemlessly in boxes called cells (the text you're reading right now is in a cell)."
   ]
  },
  {
   "cell_type": "markdown",
   "id": "33a03463",
   "metadata": {},
   "source": [
    "### Code cells\n",
    "So far, you've only seen text cells, but just below is a code cell which contains real, live runnable python code. Python programs\n",
    "consist of lines of code that tell your computer what you want\n",
    "it to do.\n",
    "\n",
    "The cell below tells your computer to make a sentence and display\n",
    "it.\n",
    "\n",
    "**💻 To run the code in the cell, click on the box and \n",
    "type `shift+enter`.**"
   ]
  },
  {
   "cell_type": "code",
   "execution_count": 8,
   "id": "25cc85d0",
   "metadata": {},
   "outputs": [
    {
     "data": {
      "text/plain": [
       "'Pizza Hut makes the best pizza 🍕'"
      ]
     },
     "execution_count": 8,
     "metadata": {},
     "output_type": "execute_result"
    }
   ],
   "source": [
    "pizza_company = \"Pizza Hut\"\n",
    "\"{} makes the best pizza 🍕\".format(pizza_company)"
   ]
  },
  {
   "cell_type": "markdown",
   "id": "7271564e",
   "metadata": {},
   "source": [
    "You just ran your first Python code!\n",
    "\n",
    "Each code cell in a notebook acts as it's own runnable script\n",
    "that will produce output. You can run a cell as many times as\n",
    "you want and it will update the output based on the code in the\n",
    "cell when it's run.\n",
    "\n",
    "Let's see this in action.\n",
    "\n",
    "The code on line 1 in the cell above creates a variable to hold\n",
    "a pizza company, in this case Pizza Hut (we'll talk more about variables below).\n",
    "\n",
    "**💻 Change the text after `pizza_company` above inside the `\"\"` to your favorite pizza place and run the code again with `shift+enter`.**"
   ]
  },
  {
   "cell_type": "markdown",
   "id": "d4b053de",
   "metadata": {},
   "source": [
    "### Maintaining state\n",
    "Even though you run cells individually, Jupyter also \n",
    "maintains state across the whole notebook. That means \n",
    "that the code you run in one cell can impact the code \n",
    "in all the cells in the notebook.\n",
    "\n",
    "💻 Run the cell below to see."
   ]
  },
  {
   "cell_type": "code",
   "execution_count": 7,
   "id": "eaababe3",
   "metadata": {},
   "outputs": [
    {
     "data": {
      "text/plain": [
       "'I wonder what toppings Pizza Hut has 🤔'"
      ]
     },
     "execution_count": 7,
     "metadata": {},
     "output_type": "execute_result"
    }
   ],
   "source": [
    "\"I wonder what toppings {} has 🤔\".format(pizza_company)"
   ]
  },
  {
   "cell_type": "markdown",
   "id": "0540f304",
   "metadata": {},
   "source": [
    "We defined the `pizza_company` variable in the first cell, but we\n",
    "can used it in the second cell. However, the output of the cells\n",
    "will not update automatically. You have to run the cells to update\n",
    "the output.\n",
    "\n",
    "💻 Change the value of the `pizza_company` variable again and re-run both cells to see this."
   ]
  },
  {
   "cell_type": "markdown",
   "id": "a571f4f2",
   "metadata": {},
   "source": [
    "### Order matters\n",
    "Since the code runs in cells in Jupyter notebooks, the order that\n",
    "you run the cells in matters. For example, if you want to run a \n",
    "code cell that depends on the output of another cell, you have \n",
    "to run the dependent cell second.\n",
    "\n",
    "Note in the cells below that the `favorite_topping` variable from\n",
    "the top cell is used in the bottom cell.\n",
    "\n",
    "**💻 Run the two cells below out of order. What do you think will\n",
    "happen?**"
   ]
  },
  {
   "cell_type": "code",
   "execution_count": 5,
   "id": "cda30dde",
   "metadata": {},
   "outputs": [],
   "source": [
    "# run me second\n",
    "favorite_topping = \"pineapple\""
   ]
  },
  {
   "cell_type": "code",
   "execution_count": 6,
   "id": "a04c898b",
   "metadata": {},
   "outputs": [
    {
     "data": {
      "text/plain": [
       "'I hope Pizza Hut has my favorite topping pineapple'"
      ]
     },
     "execution_count": 6,
     "metadata": {},
     "output_type": "execute_result"
    }
   ],
   "source": [
    "# run me first\n",
    "\"I hope {} has my favorite topping {}\".format(pizza_company, favorite_topping)"
   ]
  },
  {
   "cell_type": "markdown",
   "id": "ae703172",
   "metadata": {},
   "source": [
    "You got an error message on the print statement, right?\n",
    "\n",
    "Now, 💻 **run that cell again (after you've run the \n",
    "`favorite_topping` cell)** and the error should go away.\n",
    "\n",
    "You can tell if a cell has been run by the `In[ ]` to \n",
    "the left of a cell.\n",
    "\n",
    "- `In[ ]` means the cell hasn't been run\n",
    "- `In[*]` means the cell is running\n",
    "- `In[n]` means the cell was the nth cell to be run (and\n",
    "thus has already been run)"
   ]
  },
  {
   "cell_type": "markdown",
   "id": "6e5f5384",
   "metadata": {},
   "source": [
    "## Putting it all together"
   ]
  },
  {
   "cell_type": "markdown",
   "id": "e72905ef",
   "metadata": {},
   "source": [
    "Now that you're starting to get the hang of these notebooks,\n",
    "let's talk about the workflow you'll use for working with them."
   ]
  },
  {
   "cell_type": "markdown",
   "id": "a27401bd",
   "metadata": {},
   "source": [
    "### Opening\n",
    "Open notebooks using the `jupyer notebook` (macOS) or \n",
    "`python3 -m notebook` (Windows) Terminal command\n",
    "in a directory. This will open the\n",
    "file navigator where you can choose which notebooks you\n",
    "want to open."
   ]
  },
  {
   "cell_type": "markdown",
   "id": "203bca5b",
   "metadata": {},
   "source": [
    "### Saving\n",
    "Save your files using the `cmd+s` keys.\n",
    "\n",
    "Jupyter will also auto save your file every 2 minutes,\n",
    "but you should `cmd+s` before you close your notebook."
   ]
  },
  {
   "cell_type": "markdown",
   "id": "20e5efac",
   "metadata": {},
   "source": [
    "### Shutting down\n",
    "When you're done working on a notebook, you can close \n",
    "the notebook by clicking `File > Close` and `Halt`. You \n",
    "can shut down Jupyer by using the `ctrl+c` keys in the \n",
    "Terminal window you launched Jupyter from.\n",
    "\n",
    "Another important feature of `.ipynb` files is that they\n",
    "save the state of your program. You might find a directory\n",
    "called `.ipynb_checkpoints` in your file system which holds\n",
    "information about the state of your notebooks."
   ]
  },
  {
   "cell_type": "markdown",
   "id": "3f3794ab",
   "metadata": {},
   "source": [
    "# Let's Draw!"
   ]
  },
  {
   "cell_type": "markdown",
   "id": "0bb86933",
   "metadata": {},
   "source": [
    "You can also use Jupyter in combination with a Python library\n",
    "called turtle to use code to make drawings."
   ]
  },
  {
   "cell_type": "markdown",
   "id": "16b21c37",
   "metadata": {},
   "source": [
    "## Square one\n",
    "Running turtle code will open a canvas in a new window and place\n",
    "a \"turtle\" holding a \"pen\" at the center.\n",
    "\n",
    "You can use commands from the library to tell this turtle how to\n",
    "move around the canvas. Anywhere the turtle goes, it will draw a\n",
    "line using it's pen.\n",
    "\n",
    "💻 Try this by running the two cells below. The first imports the\n",
    "commands from the turtle library into this notebook and the second\n",
    "creates a drawing. Can you guess what it will draw before you run\n",
    "the code?"
   ]
  },
  {
   "cell_type": "code",
   "execution_count": 10,
   "id": "00386db0",
   "metadata": {},
   "outputs": [],
   "source": [
    "from turtle import *"
   ]
  },
  {
   "cell_type": "code",
   "execution_count": 17,
   "id": "714360b6",
   "metadata": {},
   "outputs": [],
   "source": [
    "forward(50)\n",
    "right(90)\n",
    "forward(50)\n",
    "right(90)\n",
    "forward(50)\n",
    "right(90)\n",
    "forward(50)\n",
    "right(90)"
   ]
  },
  {
   "cell_type": "markdown",
   "id": "2dfcdc73",
   "metadata": {},
   "source": [
    "The turtle window will stay open until you close it in your \n",
    "Python program (or until you shutdown the Jupyter server in\n",
    "your Terminal).\n",
    "\n",
    "💻 Close the window using the following cell:"
   ]
  },
  {
   "cell_type": "code",
   "execution_count": 15,
   "id": "119bd2cf",
   "metadata": {},
   "outputs": [],
   "source": [
    "bye()"
   ]
  },
  {
   "cell_type": "markdown",
   "id": "cd77f9f5",
   "metadata": {},
   "source": [
    "However, note that if you try to run the turtle code again, it\n",
    "will produce an error. You will need to run the cell twice in\n",
    "order to re-open a turtle window after you have closed it with\n",
    "the `bye()` command.\n",
    "\n",
    "💻 Alternatively, if you want to start over and run your program\n",
    "again, you can clear the canvas and return the turtle to\n",
    "it's origianl state without closing the window using the \n",
    "command in the following cell:"
   ]
  },
  {
   "cell_type": "code",
   "execution_count": 18,
   "id": "08e20f68",
   "metadata": {},
   "outputs": [],
   "source": [
    "reset()"
   ]
  },
  {
   "cell_type": "markdown",
   "id": "8ca31284",
   "metadata": {},
   "source": [
    "## Your first drawing\n",
    "💻 Now that you've got some of the basics of writing and running\n",
    "Python code, try writing your own program in the cell below to\n",
    "draw something. (anything!)\n",
    "\n",
    "Check out the table listing some common turtle commands on \n",
    "the course webpage for [this lab](https://ischool.berkeley.edu/~jwolf/python-bootcamp/labs/intro/)\n",
    "or you can find even more turtle commands in [the\n",
    "official turtle documantation](https://docs.python.org/3/library/turtle.html)."
   ]
  },
  {
   "cell_type": "code",
   "execution_count": null,
   "id": "342dee36",
   "metadata": {},
   "outputs": [],
   "source": []
  },
  {
   "cell_type": "markdown",
   "id": "4ee2ee8b",
   "metadata": {},
   "source": [
    "# Variables\n",
    "One of the most powerful tools of programming is the variable: a\n",
    "storage container for information in your programs.\n",
    "\n",
    "You are probably familiar with variables in math. (“Solve for x:\n",
    "2x + 4 = 3x”) In math problems, the goal is often to figure out\n",
    "the secret value of a variable. Once you figure it out, the \n",
    "problem is finished. Variables work differently in computer\n",
    "science:\n",
    "\n",
    "- You can create them whenever you want. In fact, you already\n",
    "made one. Remember `pizza_company = \"Pizza Hut\"` above? You made\n",
    "a variable called `pizza_company` and set its value to \n",
    "`\"Pizza Hut\"`. This is called *declaring* a variable.\n",
    "- In computer science, you get to decide what value variables\n",
    "have, and you can change them whenever you want. This is\n",
    "called *assigning* values to variables.\n",
    "- You can call them whatever you want (no spaces though!) In\n",
    "math, variables have names like `x`, `y`, and `t`. In computer\n",
    "science, we usually call them things like \n",
    "`number_of_coins_in_my_hand` or `direction_my_character_is_facing`\n",
    "because it’s less confusing.\n",
    "\n",
    "You can think about variables as little boxes in your computer’s memory that store things so you can use them later.\n",
    "\n",
    "![Variables in computer memory](images/variables_memory.png)"
   ]
  },
  {
   "cell_type": "markdown",
   "id": "0569d559",
   "metadata": {},
   "source": [
    "## Variable tests\n",
    "Let's do some tests on Python variables to help you get a sense of how they work."
   ]
  },
  {
   "cell_type": "markdown",
   "id": "63592961",
   "metadata": {},
   "source": [
    "### Variable test 1\n",
    "**How do we make variables?**\n",
    "\n",
    "💻 Start by replacing `\"Your name\"` with your name (but keep\n",
    "the `\"\"`). Now you have *declared* the name variable and *assigned*\n",
    "your name as its value."
   ]
  },
  {
   "cell_type": "code",
   "execution_count": 23,
   "id": "f9bfcb21",
   "metadata": {},
   "outputs": [
    {
     "name": "stdout",
     "output_type": "stream",
     "text": [
      "Hello\n",
      "Your name\n"
     ]
    }
   ],
   "source": [
    "name = \"Your name\"\n",
    "print(\"Hello\")\n",
    "print(name)"
   ]
  },
  {
   "cell_type": "markdown",
   "id": "97ea79ef",
   "metadata": {},
   "source": [
    "What just happened? After storing your name in the `name` variable,\n",
    "`print(name)` prints out whatever is stored in the variable.\n",
    "\n",
    "Let’s do another test. What if we declare the same variable twice\n",
    "in the same cell?\n",
    "\n",
    "💻 Replace `\"Friend's name\"` with your friend’s name.\n",
    "\n",
    "Now our program is printing the name variable twice but we’ve assigned different values to the variable at different places in the code. What do you think will happen?"
   ]
  },
  {
   "cell_type": "code",
   "execution_count": 22,
   "id": "32e839d0",
   "metadata": {},
   "outputs": [
    {
     "name": "stdout",
     "output_type": "stream",
     "text": [
      "Hello\n",
      "Your name\n",
      "Hello\n",
      "Friend's name\n"
     ]
    }
   ],
   "source": [
    "name = \"Your name\"\n",
    "print(\"Hello\")\n",
    "print(name)\n",
    "name = \"Friend's name\"\n",
    "print(\"Hello\")\n",
    "print(name)"
   ]
  },
  {
   "cell_type": "markdown",
   "id": "ee4befa4",
   "metadata": {},
   "source": [
    "### Variable test 2\n",
    "**Does the place we make our variables in out code matter?**\n",
    "\n",
    "💻 Replace \"color\" and \"fruit\" with your favorite color and fruit:"
   ]
  },
  {
   "cell_type": "code",
   "execution_count": 25,
   "id": "1777d346",
   "metadata": {},
   "outputs": [
    {
     "name": "stdout",
     "output_type": "stream",
     "text": [
      "Your favorite color is color\n"
     ]
    },
    {
     "ename": "NameError",
     "evalue": "name 'favorite_fruit' is not defined",
     "output_type": "error",
     "traceback": [
      "\u001b[0;31m---------------------------------------------------------------------------\u001b[0m",
      "\u001b[0;31mNameError\u001b[0m                                 Traceback (most recent call last)",
      "\u001b[0;32m/var/folders/gw/zzdm1k1s4czgdmpvkm7g_0q80000gn/T/ipykernel_12169/2389235615.py\u001b[0m in \u001b[0;36m<module>\u001b[0;34m\u001b[0m\n\u001b[1;32m      1\u001b[0m \u001b[0mfavorite_color\u001b[0m \u001b[0;34m=\u001b[0m \u001b[0;34m\"color\"\u001b[0m\u001b[0;34m\u001b[0m\u001b[0;34m\u001b[0m\u001b[0m\n\u001b[1;32m      2\u001b[0m \u001b[0mprint\u001b[0m\u001b[0;34m(\u001b[0m\u001b[0;34m\"Your favorite color is \"\u001b[0m \u001b[0;34m+\u001b[0m \u001b[0mfavorite_color\u001b[0m\u001b[0;34m)\u001b[0m\u001b[0;34m\u001b[0m\u001b[0;34m\u001b[0m\u001b[0m\n\u001b[0;32m----> 3\u001b[0;31m \u001b[0mprint\u001b[0m\u001b[0;34m(\u001b[0m\u001b[0;34m\"Your favorite fruit is \"\u001b[0m \u001b[0;34m+\u001b[0m \u001b[0mfavorite_fruit\u001b[0m\u001b[0;34m)\u001b[0m\u001b[0;34m\u001b[0m\u001b[0;34m\u001b[0m\u001b[0m\n\u001b[0m\u001b[1;32m      4\u001b[0m \u001b[0mfavorite_fruit\u001b[0m \u001b[0;34m=\u001b[0m \u001b[0;34m\"fruit\"\u001b[0m\u001b[0;34m\u001b[0m\u001b[0;34m\u001b[0m\u001b[0m\n",
      "\u001b[0;31mNameError\u001b[0m: name 'favorite_fruit' is not defined"
     ]
    }
   ],
   "source": [
    "favorite_color = \"color\"\n",
    "print(\"Your favorite color is \" + favorite_color)\n",
    "print(\"Your favorite fruit is \" + favorite_fruit)\n",
    "favorite_fruit = \"fruit\""
   ]
  },
  {
   "cell_type": "markdown",
   "id": "fd309987",
   "metadata": {},
   "source": [
    "Hmm, something is wrong here. \n",
    "\n",
    "💻 Work with your group to find and fix the bug."
   ]
  },
  {
   "cell_type": "markdown",
   "id": "ccca71c7",
   "metadata": {},
   "source": [
    "### Variable test 3\n",
    "**What can variables do for us?**\n",
    "\n",
    "💻 Run the following cell multiple times and change up what artist\n",
    "you type."
   ]
  },
  {
   "cell_type": "code",
   "execution_count": 26,
   "id": "206d39b6",
   "metadata": {},
   "outputs": [
    {
     "name": "stdout",
     "output_type": "stream",
     "text": [
      "What is your favorite artist? glass animals\n",
      "Oh, I love glass animals!\n"
     ]
    }
   ],
   "source": [
    "favorite_artist = input(\"What is your favorite artist? \")\n",
    "print(\"Oh, I love \" + favorite_artist + \"!\")"
   ]
  },
  {
   "cell_type": "markdown",
   "id": "83557795",
   "metadata": {},
   "source": []
  },
  {
   "cell_type": "markdown",
   "id": "156585a7",
   "metadata": {},
   "source": [
    "## Responsive drawing\n",
    "\n",
    "The last variable test showed how your programs can be responsive to user input and how you can store information from the user in variables that may change every time your program runs.\n",
    "\n",
    "This means that we can use variables to make our code do different\n",
    "things at different times based on input. Can you imagine how that\n",
    "might help use make more interesting turtle drawing?\n",
    "\n",
    "💻 In the cell below, copy your turtle drawing from above and edit\n",
    "it so that it uses variables to respond to user input:\n",
    "\n",
    "> 👾 💬 **FYI**\n",
    ">\n",
    "> You can get input from the user while your program is running\n",
    "> using `input(\"PROMPT\")`.\n",
    "> \n",
    "> If you want to get a number from the user, use \n",
    "> `int(input(\"PROMPT\"))`. This is because Python treats numbers and \n",
    "> words differently. We’ll talk more about this in a future lab."
   ]
  },
  {
   "cell_type": "code",
   "execution_count": null,
   "id": "9a6ecf97",
   "metadata": {},
   "outputs": [],
   "source": []
  }
 ],
 "metadata": {
  "kernelspec": {
   "display_name": "Python 3 (ipykernel)",
   "language": "python",
   "name": "python3"
  },
  "language_info": {
   "codemirror_mode": {
    "name": "ipython",
    "version": 3
   },
   "file_extension": ".py",
   "mimetype": "text/x-python",
   "name": "python",
   "nbconvert_exporter": "python",
   "pygments_lexer": "ipython3",
   "version": "3.9.1"
  },
  "toc": {
   "base_numbering": 1,
   "nav_menu": {},
   "number_sections": true,
   "sideBar": true,
   "skip_h1_title": false,
   "title_cell": "Table of Contents",
   "title_sidebar": "Contents",
   "toc_cell": false,
   "toc_position": {},
   "toc_section_display": true,
   "toc_window_display": false
  },
  "varInspector": {
   "cols": {
    "lenName": 16,
    "lenType": 16,
    "lenVar": 40
   },
   "kernels_config": {
    "python": {
     "delete_cmd_postfix": "",
     "delete_cmd_prefix": "del ",
     "library": "var_list.py",
     "varRefreshCmd": "print(var_dic_list())"
    },
    "r": {
     "delete_cmd_postfix": ") ",
     "delete_cmd_prefix": "rm(",
     "library": "var_list.r",
     "varRefreshCmd": "cat(var_dic_list()) "
    }
   },
   "types_to_exclude": [
    "module",
    "function",
    "builtin_function_or_method",
    "instance",
    "_Feature"
   ],
   "window_display": false
  }
 },
 "nbformat": 4,
 "nbformat_minor": 5
}
