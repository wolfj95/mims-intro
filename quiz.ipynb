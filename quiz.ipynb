{
 "cells": [
  {
   "cell_type": "markdown",
   "id": "ece538b2",
   "metadata": {},
   "source": [
    "# Check-in Quiz\n",
    "This notebook holds code used in the check-in quiz for this lab."
   ]
  },
  {
   "cell_type": "markdown",
   "id": "6e74c294",
   "metadata": {},
   "source": [
    "## Code trace\n",
    "Read through the following code and guess what the turtle drawing\n",
    "it produces will look like. \n",
    "\n",
    "You can check your answer by running the code in Jupyter later,\n",
    "but make a guess without running the code first."
   ]
  },
  {
   "cell_type": "code",
   "execution_count": 2,
   "id": "53238127",
   "metadata": {},
   "outputs": [],
   "source": [
    "from turtle import *"
   ]
  },
  {
   "cell_type": "code",
   "execution_count": 6,
   "id": "aad49fb9",
   "metadata": {},
   "outputs": [
    {
     "name": "stdout",
     "output_type": "stream",
     "text": [
      "How big? 5\n",
      "Enter any number for a surprise: 1\n"
     ]
    }
   ],
   "source": [
    "reset()\n",
    "\n",
    "size = int(input(\"How big? \"))\n",
    "surprise = float(input(\"Enter any number for a surprise: \"))\n",
    "forward(size)\n",
    "right(90)\n",
    "size = size*surprise\n",
    "forward(size)\n",
    "right(90)\n",
    "size = size*surprise\n",
    "forward(size)\n",
    "right(90)\n",
    "size = size*surprise\n",
    "forward(size)\n",
    "right(90)\n",
    "size = size*surprise\n",
    "forward(size)\n",
    "right(90)\n",
    "size = size*surprise\n",
    "forward(size)\n",
    "right(90)\n",
    "size = size*surprise\n",
    "forward(size)\n",
    "right(90)\n",
    "size = size*surprise\n",
    "forward(size)\n",
    "right(90)\n",
    "size = size*surprise\n",
    "forward(size)\n",
    "right(90)\n",
    "size = size*surprise"
   ]
  },
  {
   "cell_type": "markdown",
   "id": "c8d699ca",
   "metadata": {},
   "source": [
    "## Error reading"
   ]
  },
  {
   "cell_type": "code",
   "execution_count": 4,
   "id": "708fc69c",
   "metadata": {},
   "outputs": [
    {
     "name": "stdout",
     "output_type": "stream",
     "text": [
      "What color should the shape be? red\n",
      "How big should the shape be? 20\n"
     ]
    }
   ],
   "source": [
    "reset()\n",
    "\n",
    "shape_color = input(\"What color should the shape be? \")\n",
    "shape_size = int(input(\"How big should the shape be? \"))\n",
    "\n",
    "color(shape_color)\n",
    "forward(shape_size)\n",
    "right(90)\n",
    "forward(shape_size)\n",
    "right(90)\n",
    "forward(shape_size)\n",
    "right(90)\n",
    "forward(shape_size)\n",
    "right(90)\n"
   ]
  },
  {
   "cell_type": "markdown",
   "id": "ecbc5cee",
   "metadata": {},
   "source": [
    "## Debugging\n",
    "You are writing a program to draw a star with variable size\n",
    "based on user input. You calculate that each point of a 5-point\n",
    "star can be made with a 36º angle. You code up a first attempt\n",
    "of this program, and it runs! But based on the output it still\n",
    "seems that something isn't right...\n",
    "\n",
    "Find the bug in this code and suggest how you could fix it so that\n",
    "it produces a 5-point star."
   ]
  },
  {
   "cell_type": "code",
   "execution_count": 5,
   "id": "25b7cfa7",
   "metadata": {},
   "outputs": [
    {
     "name": "stdout",
     "output_type": "stream",
     "text": [
      "How big should the star be? 50\n"
     ]
    }
   ],
   "source": [
    "reset()\n",
    "size = int(input(\"How big should the star be? \"))\n",
    "\n",
    "forward(size)\n",
    "right(180-36)\n",
    "forward(size)\n",
    "right(180-36)\n",
    "forward(size)\n",
    "right(180-36)\n",
    "forward(size)\n",
    "right(180-36)\n",
    "forward(size)\n",
    "right(180-36)"
   ]
  },
  {
   "cell_type": "code",
   "execution_count": null,
   "id": "8d0cda34",
   "metadata": {},
   "outputs": [],
   "source": []
  }
 ],
 "metadata": {
  "kernelspec": {
   "display_name": "Python 3 (ipykernel)",
   "language": "python",
   "name": "python3"
  },
  "language_info": {
   "codemirror_mode": {
    "name": "ipython",
    "version": 3
   },
   "file_extension": ".py",
   "mimetype": "text/x-python",
   "name": "python",
   "nbconvert_exporter": "python",
   "pygments_lexer": "ipython3",
   "version": "3.9.1"
  },
  "toc": {
   "base_numbering": 1,
   "nav_menu": {},
   "number_sections": true,
   "sideBar": true,
   "skip_h1_title": false,
   "title_cell": "Table of Contents",
   "title_sidebar": "Contents",
   "toc_cell": false,
   "toc_position": {},
   "toc_section_display": true,
   "toc_window_display": false
  },
  "varInspector": {
   "cols": {
    "lenName": 16,
    "lenType": 16,
    "lenVar": 40
   },
   "kernels_config": {
    "python": {
     "delete_cmd_postfix": "",
     "delete_cmd_prefix": "del ",
     "library": "var_list.py",
     "varRefreshCmd": "print(var_dic_list())"
    },
    "r": {
     "delete_cmd_postfix": ") ",
     "delete_cmd_prefix": "rm(",
     "library": "var_list.r",
     "varRefreshCmd": "cat(var_dic_list()) "
    }
   },
   "types_to_exclude": [
    "module",
    "function",
    "builtin_function_or_method",
    "instance",
    "_Feature"
   ],
   "window_display": false
  }
 },
 "nbformat": 4,
 "nbformat_minor": 5
}
